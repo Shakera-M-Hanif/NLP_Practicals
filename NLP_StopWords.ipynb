{
  "nbformat": 4,
  "nbformat_minor": 0,
  "metadata": {
    "colab": {
      "name": "NLP_StopWords.ipynb",
      "provenance": [],
      "collapsed_sections": [],
      "include_colab_link": true
    },
    "kernelspec": {
      "name": "python3",
      "display_name": "Python 3"
    },
    "language_info": {
      "name": "python"
    }
  },
  "cells": [
    {
      "cell_type": "markdown",
      "metadata": {
        "id": "view-in-github",
        "colab_type": "text"
      },
      "source": [
        "<a href=\"https://colab.research.google.com/github/Shakera-M-Hanif/NLP_Projects/blob/main/NLP_StopWords.ipynb\" target=\"_parent\"><img src=\"https://colab.research.google.com/assets/colab-badge.svg\" alt=\"Open In Colab\"/></a>"
      ]
    },
    {
      "cell_type": "markdown",
      "metadata": {
        "id": "YVaeqTPTEBNs"
      },
      "source": [
        "# **NLP PRACTICAL-2 Identify Stopwords**"
      ]
    },
    {
      "cell_type": "markdown",
      "metadata": {
        "id": "NtDMzh9fEYzq"
      },
      "source": [
        "### Aim: To write a program to identify Stopwords in a given sentences in English and Hindi\n",
        "\n",
        "---\n",
        "\n"
      ]
    },
    {
      "cell_type": "markdown",
      "metadata": {
        "id": "UQPV6Sa3auCx"
      },
      "source": [
        "stopwords are the English words which does not add much meaning to a sentence\n",
        "\n",
        "library used \n",
        "nltk.corpus import stopwords\n",
        "import pandas as pd\n",
        "\n",
        "set()-shows distinct elements \n",
        "\n",
        "sorted()-The sorted() function returns a sorted list of the specified iterable object."
      ]
    },
    {
      "cell_type": "markdown",
      "metadata": {
        "id": "5FjitYtHQ5om"
      },
      "source": [
        "\n",
        "\n",
        "**1.   STOP WORDS IN ENGLISH LANGUAGE**\n",
        "\n",
        "\n",
        "\n",
        "\n",
        "\n"
      ]
    },
    {
      "cell_type": "code",
      "metadata": {
        "id": "ZMhuw4w0-1K-"
      },
      "source": [
        "import nltk\n",
        "nltk.download(\"all\")\n",
        "from nltk.corpus import stopwords\n",
        "import pandas as pd"
      ],
      "execution_count": null,
      "outputs": []
    },
    {
      "cell_type": "code",
      "metadata": {
        "id": "-oa-DknY_qOF"
      },
      "source": [
        "en_stops = set(stopwords.words('english'))\n"
      ],
      "execution_count": null,
      "outputs": []
    },
    {
      "cell_type": "code",
      "metadata": {
        "id": "vf4Ctql2L5bw"
      },
      "source": [
        "all_words_Eng2=['When', 'you', 'try', 'your', 'best', 'but' ,'you', 'dont', 'succeed','When', 'you' ,'get', 'what', 'you', 'want', 'but', 'not', 'what', 'you', 'need',\n",
        "'When', 'you', 'feel', 'so', 'tired', 'but', 'you', 'cant', 'sleep','Stuck', 'in', 'reverse', 'And', 'the', 'tears', 'come', 'streaming', 'down', 'your', 'face',\n",
        "'When', 'you', 'lose', 'something', 'you', 'cant', 'replace','When', 'you', 'love', 'someone', 'but', 'it', 'goes', 'to', 'waste','Could', 'it', 'be', 'worse?']"
      ],
      "execution_count": null,
      "outputs": []
    },
    {
      "cell_type": "code",
      "metadata": {
        "colab": {
          "base_uri": "https://localhost:8080/"
        },
        "id": "r7vaWPqU_gJa",
        "outputId": "5e961293-84db-49a0-b653-3a39fda8f903"
      },
      "source": [
        "for word in all_words_Eng2:\n",
        "  if word in en_stops:\n",
        "    print(word, \" \")"
      ],
      "execution_count": null,
      "outputs": [
        {
          "output_type": "stream",
          "name": "stdout",
          "text": [
            "you  \n",
            "your  \n",
            "but  \n",
            "you  \n",
            "you  \n",
            "what  \n",
            "you  \n",
            "but  \n",
            "not  \n",
            "what  \n",
            "you  \n",
            "you  \n",
            "so  \n",
            "but  \n",
            "you  \n",
            "in  \n",
            "the  \n",
            "down  \n",
            "your  \n",
            "you  \n",
            "you  \n",
            "you  \n",
            "but  \n",
            "it  \n",
            "to  \n",
            "it  \n",
            "be  \n"
          ]
        }
      ]
    },
    {
      "cell_type": "code",
      "metadata": {
        "colab": {
          "base_uri": "https://localhost:8080/"
        },
        "id": "erCWUgeA8NPX",
        "outputId": "f756b35e-6284-458a-a3e2-bfbd157c02be"
      },
      "source": [
        "# to remove stopwords\n",
        "filtered_words=[]\n",
        "for word in all_words_Eng2:\n",
        "  if word not in en_stops:\n",
        "    filtered_words.append(word)\n",
        "print(filtered_words)\n",
        "print(len(filtered_words))"
      ],
      "execution_count": null,
      "outputs": [
        {
          "output_type": "stream",
          "name": "stdout",
          "text": [
            "['When', 'try', 'best', 'dont', 'succeed', 'When', 'get', 'want', 'need', 'When', 'feel', 'tired', 'cant', 'sleep', 'Stuck', 'reverse', 'And', 'tears', 'come', 'streaming', 'face', 'When', 'lose', 'something', 'cant', 'replace', 'When', 'love', 'someone', 'goes', 'waste', 'Could', 'worse?']\n",
            "33\n"
          ]
        }
      ]
    },
    {
      "cell_type": "markdown",
      "metadata": {
        "id": "7rPjkRrLRQ4Z"
      },
      "source": [
        "\n",
        "\n",
        "---\n",
        "\n",
        "\n",
        "\n",
        "---\n",
        "\n"
      ]
    },
    {
      "cell_type": "markdown",
      "metadata": {
        "id": "J8LBxr32He_M"
      },
      "source": [
        "\n",
        "**2.   STOP WORDS IN HINDI LANGUAGE**\n",
        "\n"
      ]
    },
    {
      "cell_type": "code",
      "metadata": {
        "colab": {
          "base_uri": "https://localhost:8080/",
          "height": 178
        },
        "id": "9TafaDe1Fewj",
        "outputId": "d46ede0b-afba-462a-807c-ec26525c7a2d"
      },
      "source": [
        "en_stops_hin = open(\"/content/stop_words_hindi.txt\", \"r\").read()\n",
        "print(en_stops_hin,end=\" \")"
      ],
      "execution_count": null,
      "outputs": [
        {
          "output_type": "error",
          "ename": "FileNotFoundError",
          "evalue": "ignored",
          "traceback": [
            "\u001b[0;31m---------------------------------------------------------------------------\u001b[0m",
            "\u001b[0;31mFileNotFoundError\u001b[0m                         Traceback (most recent call last)",
            "\u001b[0;32m<ipython-input-6-e309e512f65e>\u001b[0m in \u001b[0;36m<module>\u001b[0;34m()\u001b[0m\n\u001b[0;32m----> 1\u001b[0;31m \u001b[0men_stops_hin\u001b[0m \u001b[0;34m=\u001b[0m \u001b[0mopen\u001b[0m\u001b[0;34m(\u001b[0m\u001b[0;34m\"/content/stop_words_hindi.txt\"\u001b[0m\u001b[0;34m,\u001b[0m \u001b[0;34m\"r\"\u001b[0m\u001b[0;34m)\u001b[0m\u001b[0;34m.\u001b[0m\u001b[0mread\u001b[0m\u001b[0;34m(\u001b[0m\u001b[0;34m)\u001b[0m\u001b[0;34m\u001b[0m\u001b[0;34m\u001b[0m\u001b[0m\n\u001b[0m\u001b[1;32m      2\u001b[0m \u001b[0mprint\u001b[0m\u001b[0;34m(\u001b[0m\u001b[0men_stops_hin\u001b[0m\u001b[0;34m,\u001b[0m\u001b[0mend\u001b[0m\u001b[0;34m=\u001b[0m\u001b[0;34m\" \"\u001b[0m\u001b[0;34m)\u001b[0m\u001b[0;34m\u001b[0m\u001b[0;34m\u001b[0m\u001b[0m\n",
            "\u001b[0;31mFileNotFoundError\u001b[0m: [Errno 2] No such file or directory: '/content/stop_words_hindi.txt'"
          ]
        }
      ]
    },
    {
      "cell_type": "code",
      "metadata": {
        "id": "jlfFh2i0Cvey"
      },
      "source": [
        "all_words_Hin = ['जितना', 'कठिन', 'संघर्ष', 'होगा', 'जीत', 'उतनी', 'ही', 'शानदार','होगी','बड़ा', 'लक्ष्य', 'प्राप्त', 'करने', 'के', 'लिए','बस', 'एक', 'मजबूत', 'सोच', 'की', 'ज़रुरत', 'होती', 'है' ]"
      ],
      "execution_count": null,
      "outputs": []
    },
    {
      "cell_type": "code",
      "metadata": {
        "id": "-2R-lJaoCvez"
      },
      "source": [
        "for wordh in all_words_Hin:\n",
        "  if wordh in en_stops_hin:\n",
        "    print(wordh, \" \")"
      ],
      "execution_count": null,
      "outputs": []
    },
    {
      "cell_type": "code",
      "metadata": {
        "id": "0B1_pI229uJ8"
      },
      "source": [
        "# filtered words in hindi dataset\n",
        "filtered_hindi=[]\n",
        "for wordh in all_words_Hin:\n",
        "  if wordh not in en_stops_hin:\n",
        "    filtered_hindi.append(wordh)\n",
        "print(filtered_hindi)\n"
      ],
      "execution_count": null,
      "outputs": []
    },
    {
      "cell_type": "markdown",
      "metadata": {
        "id": "AbmowLEgRUJD"
      },
      "source": [
        "\n",
        "\n",
        "---\n",
        "\n",
        "\n",
        "\n",
        "---\n",
        "\n",
        "\n",
        "\n",
        "---\n",
        "\n",
        "\n",
        "\n",
        "---\n",
        "\n"
      ]
    }
  ]
}